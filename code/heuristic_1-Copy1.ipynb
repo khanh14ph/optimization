{
 "cells": [
  {
   "cell_type": "code",
   "execution_count": 53,
   "id": "115eed7c",
   "metadata": {},
   "outputs": [
    {
     "name": "stdout",
     "output_type": "stream",
     "text": [
      "6 3 [2, 3, 4]\n"
     ]
    }
   ],
   "source": [
    "import numpy as np\n",
    "def input(filename):\n",
    "    with open(filename) as f:\n",
    "        N,k = [int(x) for x in f.readline().split()]\n",
    "        c = [int(x) for x in f.readline().split()]\n",
    "        d = [[int(x) for x in f.readline().split()] for i in range(2*N+1)]\n",
    "    return N,k,c,d\n",
    "N,k,c,d = input('K3-N6.txt')\n",
    "print(N,k,c)"
   ]
  },
  {
   "cell_type": "code",
   "execution_count": 54,
   "id": "ace305e2",
   "metadata": {},
   "outputs": [
    {
     "data": {
      "text/plain": [
       "[4, 3, 2]"
      ]
     },
     "execution_count": 54,
     "metadata": {},
     "output_type": "execute_result"
    }
   ],
   "source": [
    "d=np.array(d)\n",
    "capacity=sorted(c, reverse=True)\n",
    "capacity"
   ]
  },
  {
   "cell_type": "code",
   "execution_count": 55,
   "id": "50e93ba1",
   "metadata": {},
   "outputs": [
    {
     "name": "stdout",
     "output_type": "stream",
     "text": [
      "[19, 16, 7, 30, 14, 23]\n"
     ]
    }
   ],
   "source": [
    "pick_up_lst=[i for i in range (1,N+1)]\n",
    "drop_off_lst=[i for i in range(N+1,2*N+1)]\n",
    "\n",
    "initial_lst=[]\n",
    "# list khoảng cách từ 0 đến các điểm pick up + drop off đến 0\n",
    "for i in range(1,N+1):\n",
    "    initial_lst.append(d[0,i]+d[i+N][0])\n",
    "print(initial_lst)"
   ]
  },
  {
   "cell_type": "code",
   "execution_count": 56,
   "id": "0a6e0d11",
   "metadata": {},
   "outputs": [
    {
     "name": "stdout",
     "output_type": "stream",
     "text": [
      "[3 5 2]\n",
      "[16, 33, 23]\n",
      "[3, 2, 5]\n",
      "route_lst [[0, 3, 9, 0], [0, 2, 8, 0], [0, 5, 11, 0]]\n",
      "visited_node [3, 9, 2, 8, 5, 11]\n",
      "capacity [4, 3, 2]\n"
     ]
    }
   ],
   "source": [
    "#k điểm gần điểm 0 nhất\n",
    "res = np.array(sorted(range(len(initial_lst)), key = lambda x: initial_lst[x])[:k])+1\n",
    "#sort node gân nhiều điểm pick up nhất\n",
    "def total_dis_to_pickup_node(n):\n",
    "    s=0\n",
    "    for i in range(1,N+1):\n",
    "        if i not in res:\n",
    "            s+=d[n][i]\n",
    "    return s\n",
    "print(res)\n",
    "total_dis=[total_dis_to_pickup_node(i) for i in res]\n",
    "print(total_dis)\n",
    "res=sorted(res, key=lambda x: total_dis_to_pickup_node(x), reverse=False)\n",
    "route_lst=[[i,i+N] for i in res]\n",
    "visited_node=[]\n",
    "for i in res:\n",
    "    visited_node.append(i)\n",
    "    visited_node.append(i+N)\n",
    "for i in route_lst:\n",
    "    i.insert(0,0)\n",
    "    i.append(0)\n",
    "print(res)\n",
    "print('route_lst',route_lst)\n",
    "print('visited_node',visited_node)\n",
    "print('capacity',capacity)\n",
    "#líst các điểm gần 0 nhất\n"
   ]
  },
  {
   "cell_type": "code",
   "execution_count": 57,
   "id": "a877ffe5",
   "metadata": {},
   "outputs": [],
   "source": [
    "def pick_up_lst_of_a_route(lst):\n",
    "    lst1=[]\n",
    "    for i in lst:\n",
    "        if i<N+1:\n",
    "            lst1.append(i)\n",
    "    return lst1\n",
    "# Trả về số người ngay sau khi qua node thứ index của 1 route\n",
    "# def current_num_people(lst, index):\n",
    "#     queue=[]\n",
    "#     s=0\n",
    "#     for i in range(0,index+1) :\n",
    "#         if lst[i]-N in queue:\n",
    "#             queue.pop(0)\n",
    "#         else:\n",
    "#             queue.append(i)\n",
    "#     return len(queue)\n",
    "def find_position(x):\n",
    "    s=0\n",
    "    for i in range(len(route_lst)):\n",
    "         for j in range(len(route_lst[i])):\n",
    "                if route_lst[i][j]==x:\n",
    "                    s=[i,j]\n",
    "                    break\n",
    "    return s\n",
    "def check_capacity(lst,r):\n",
    "    queue=[]\n",
    "    for i in range(len(lst)):\n",
    "        if lst[i]-N in queue:\n",
    "            queue.pop(0)\n",
    "        else:\n",
    "            queue.append(lst[i])\n",
    "            if len(queue)>r:\n",
    "                return False\n",
    "    return True"
   ]
  },
  {
   "cell_type": "code",
   "execution_count": 58,
   "id": "192afcc5",
   "metadata": {},
   "outputs": [
    {
     "name": "stdout",
     "output_type": "stream",
     "text": [
      "capacity 4\n",
      "path [0, 3, 4, 10, 6, 12, 9, 0]\n",
      "capacity 3\n",
      "path [0, 2, 8, 1, 7, 0]\n",
      "capacity 2\n",
      "path [0, 5, 11, 0]\n",
      "95\n"
     ]
    }
   ],
   "source": [
    "# Heuristic1\n",
    "visited_node=[]\n",
    "\n",
    "for i in res:\n",
    "    visited_node.append(i)\n",
    "    visited_node.append(i+N)\n",
    "route_lst=[[i,i+N] for i in res]\n",
    "for i in route_lst:\n",
    "    i.insert(0,0)\n",
    "    i.append(0)\n",
    "insert1=1\n",
    "insert2=1\n",
    "insert3=1\n",
    "for i in range (1,N+1):\n",
    "  \n",
    "    arg1=1\n",
    "    arg2=1\n",
    "    if i not in visited_node:\n",
    "#         print('route',route_lst)\n",
    "#         print('cal', cal(route_lst))\n",
    "        s=float('inf')\n",
    "        for r in range(len(route_lst)):\n",
    "            \n",
    "#             closest_to_pickup=1\n",
    "#             closest_to_dropoff=1\n",
    "            fake_route=route_lst[r].copy()\n",
    "            s1=float('inf')\n",
    "            s2=float('inf')\n",
    "            for j in range(1,len(fake_route)-1):\n",
    "                lst=fake_route.copy()\n",
    "                lst.insert(j+1,i)\n",
    "                if check_capacity(lst,capacity[r]):\n",
    "                    if d[fake_route[j]][i]+d[i][fake_route[j+1]]<s1:\n",
    "                        s1=d[fake_route[j]][i]+d[i][fake_route[j+1]]\n",
    "                        arg1,arg2=r,j+1\n",
    "                lst=fake_route.copy()\n",
    "                lst.insert(j,i)\n",
    "                if check_capacity(lst,capacity[r]):\n",
    "                    if d[i][fake_route[j]]+d[fake_route[j-1]][i]<s1:\n",
    "                        s1=d[i,fake_route[j]]+d[fake_route[j-1]][i]\n",
    "                        arg1,arg2=r,j\n",
    "            fake_route.insert(arg2,i)\n",
    "            arg3=1\n",
    "            for v in range (arg2, len(fake_route)-1):\n",
    "                if d[fake_route[v]][i+N]+d[i+N][fake_route[v+1]]<s2:\n",
    "                    s2=d[fake_route[v]][i+N]+d[i+N][fake_route[v+1]]\n",
    "                    arg3=v+1\n",
    "            for v in range (arg2+1, len(fake_route)):\n",
    "                if d[i+N][fake_route[v]]+d[fake_route[v-1]][i+N]<s2:\n",
    "                    s2=d[i+N][fake_route[v]]+d[fake_route[v-1]][i+N]\n",
    "                    arg3=v        \n",
    "            if s1+s2<s:\n",
    "                s=s1+s2\n",
    "                insert1=r\n",
    "                insert2=arg2\n",
    "                insert3=arg3\n",
    "        route_lst[insert1].insert(insert2,i)\n",
    "        route_lst[insert1].insert(insert3,i+N)\n",
    "    visited_node.append(i)\n",
    "for i in range(len(route_lst)):\n",
    "    print('capacity',capacity[i])\n",
    "    print('path', route_lst[i])\n",
    "s=0\n",
    "for i in route_lst:\n",
    "    for j in range(0,len(i)-1):\n",
    "        s+=d[i[j],i[j+1]]\n",
    "print(s)\n",
    "    \n",
    "    \n",
    "              \n",
    "            \n",
    "        \n",
    "        "
   ]
  },
  {
   "cell_type": "code",
   "execution_count": 59,
   "id": "1ed01001",
   "metadata": {},
   "outputs": [
    {
     "name": "stdout",
     "output_type": "stream",
     "text": [
      "capacity 4\n",
      "path [0, 3, 6, 4, 10, 12, 9, 0]\n",
      "capacity 3\n",
      "path [0, 2, 8, 1, 7, 0]\n",
      "capacity 2\n",
      "path [0, 5, 11, 0]\n",
      "109\n"
     ]
    }
   ],
   "source": [
    "# HEURISTIC2\n",
    "visited_node=[]\n",
    "for i in res:\n",
    "    visited_node.append(i)\n",
    "    visited_node.append(i+N)\n",
    "route_lst=[[i,i+N] for i in res]\n",
    "for i in route_lst:\n",
    "    i.insert(0,0)\n",
    "    i.append(0)\n",
    "insert1=1\n",
    "insert2=1\n",
    "insert3=1\n",
    "for i in range (1,N+1):\n",
    "  \n",
    "    arg1=1\n",
    "    arg2=1\n",
    "    if i not in visited_node:\n",
    "#         print('route',route_lst)\n",
    "#         print('cal', cal(route_lst))\n",
    "        s=float('inf')\n",
    "        for r in range(len(route_lst)):\n",
    "            \n",
    "#             closest_to_pickup=1\n",
    "#             closest_to_dropoff=1\n",
    "            fake_route=route_lst[r].copy()\n",
    "            s1=float('inf')\n",
    "            s2=float('inf')\n",
    "            for j in range(len(fake_route)-1):\n",
    "                lst=fake_route.copy()\n",
    "                lst.insert(j+1,i)\n",
    "                if check_capacity(lst,capacity[r]):\n",
    "                    if d[fake_route[j]][i]<s1:\n",
    "                        s1=d[fake_route[j]][i]\n",
    "                        arg1,arg2=r,j+1\n",
    "            for j in range(1,len(fake_route)):\n",
    "                lst=fake_route.copy()\n",
    "                lst.insert(j,i)\n",
    "                if check_capacity(lst,capacity[r]):\n",
    "                    if d[i][fake_route[j]]<s1:\n",
    "                        s1=d[i,fake_route[j]]\n",
    "                        arg1,arg2=r,j\n",
    "            fake_route.insert(arg2,i)\n",
    "            arg3=1\n",
    "            for v in range (arg2+1, len(fake_route)):\n",
    "                if d[fake_route[v]][i+N]<s2:\n",
    "                    s2=d[fake_route[v]][i+N]\n",
    "                    arg3=v+1\n",
    "            for v in range (arg2+1, len(fake_route)):\n",
    "                if d[i+N][fake_route[v]]<s2:\n",
    "                    s2=d[i+N][fake_route[v]]\n",
    "                    arg3=v        \n",
    "            if s1+s2<s:\n",
    "                s=s1+s2\n",
    "                insert1=r\n",
    "                insert2=arg2\n",
    "                insert3=arg3\n",
    "        route_lst[insert1].insert(insert2,i)\n",
    "        route_lst[insert1].insert(insert3,i+N)\n",
    "#         print('route',route_lst)\n",
    "#         print('cal', cal(route_lst))\n",
    "#         print('----------------')\n",
    "        visited_node.append(i)\n",
    "for i in range(len(route_lst)):\n",
    "    print('capacity',capacity[i])\n",
    "    print('path', route_lst[i])\n",
    "s=0\n",
    "for i in route_lst:\n",
    "    for j in range(0,len(i)-1):\n",
    "        s+=d[i[j],i[j+1]]\n",
    "print(s)\n",
    "              \n",
    "            \n",
    "        \n",
    "        "
   ]
  },
  {
   "cell_type": "code",
   "execution_count": 60,
   "id": "3bc5fbb0",
   "metadata": {},
   "outputs": [
    {
     "name": "stdout",
     "output_type": "stream",
     "text": [
      "capacity 4\n",
      "path [0, 3, 6, 4, 12, 9, 10, 0]\n",
      "capacity 3\n",
      "path [0, 2, 8, 1, 7, 0]\n",
      "capacity 2\n",
      "path [0, 5, 11, 0]\n",
      "108\n"
     ]
    }
   ],
   "source": [
    "#HEURISTIC3\n",
    "visited_node=[]\n",
    "for i in res:\n",
    "    visited_node.append(i)\n",
    "    visited_node.append(i+N)\n",
    "route_lst=[[i,i+N] for i in res]\n",
    "for i in route_lst:\n",
    "    i.insert(0,0)\n",
    "    i.append(0)\n",
    "for i in range (1,N+1):\n",
    "    s=float('inf')\n",
    "    arg1=1\n",
    "    arg2=1\n",
    "    if i not in visited_node:\n",
    "        for r in range(len(route_lst)):\n",
    "            for j in range(len(route_lst[r])):\n",
    "                lst=route_lst[r].copy()\n",
    "                lst.insert(j+1,i)\n",
    "                if check_capacity(lst,capacity[r]):\n",
    "                    if d[route_lst[r][j]][i]<s:\n",
    "                        s=d[route_lst[r][j]][i]\n",
    "                        arg1,arg2=r,j\n",
    "           \n",
    "        route_lst[arg1].insert(arg2+1,i)\n",
    "        s1=float('inf')\n",
    "        arg3=1\n",
    "        for v in range (arg2+1, len(route_lst[arg1])):\n",
    "            if d[route_lst[arg1][v]][i+N]<s1:\n",
    "                s1=d[route_lst[arg1][v]][i+N]\n",
    "                arg3=v+1\n",
    "        route_lst[arg1].insert(arg3,i+N)\n",
    "        visited_node.append(i)  \n",
    "        visited_node.append(i+N)\n",
    "#         print(route_lst)\n",
    "for i in range(len(route_lst)):\n",
    "    print('capacity',capacity[i])\n",
    "    print('path', route_lst[i])\n",
    "s=0\n",
    "for i in route_lst:\n",
    "    for j in range(0,len(i)-1):\n",
    "        s+=d[i[j],i[j+1]]\n",
    "print(s)\n",
    "    \n",
    "              \n",
    "            \n",
    "        \n",
    "        "
   ]
  },
  {
   "cell_type": "code",
   "execution_count": null,
   "id": "04173d29",
   "metadata": {},
   "outputs": [],
   "source": []
  },
  {
   "cell_type": "code",
   "execution_count": null,
   "id": "17ba8a54",
   "metadata": {},
   "outputs": [],
   "source": []
  },
  {
   "cell_type": "code",
   "execution_count": null,
   "id": "d45eeba6",
   "metadata": {},
   "outputs": [],
   "source": []
  },
  {
   "cell_type": "code",
   "execution_count": null,
   "id": "81ce458a",
   "metadata": {},
   "outputs": [],
   "source": []
  },
  {
   "cell_type": "code",
   "execution_count": null,
   "id": "ba58d54e",
   "metadata": {},
   "outputs": [],
   "source": []
  },
  {
   "cell_type": "code",
   "execution_count": null,
   "id": "9ce04b13",
   "metadata": {},
   "outputs": [],
   "source": []
  },
  {
   "cell_type": "code",
   "execution_count": null,
   "id": "46e39c8b",
   "metadata": {},
   "outputs": [],
   "source": []
  },
  {
   "cell_type": "code",
   "execution_count": null,
   "id": "2f02e40e",
   "metadata": {},
   "outputs": [],
   "source": []
  },
  {
   "cell_type": "code",
   "execution_count": null,
   "id": "d835bc30",
   "metadata": {},
   "outputs": [],
   "source": []
  },
  {
   "cell_type": "code",
   "execution_count": null,
   "id": "5c769a7a",
   "metadata": {},
   "outputs": [],
   "source": []
  },
  {
   "cell_type": "code",
   "execution_count": null,
   "id": "8a8aee76",
   "metadata": {},
   "outputs": [],
   "source": []
  }
 ],
 "metadata": {
  "kernelspec": {
   "display_name": "Python 3",
   "language": "python",
   "name": "python3"
  },
  "language_info": {
   "codemirror_mode": {
    "name": "ipython",
    "version": 3
   },
   "file_extension": ".py",
   "mimetype": "text/x-python",
   "name": "python",
   "nbconvert_exporter": "python",
   "pygments_lexer": "ipython3",
   "version": "3.8.8"
  }
 },
 "nbformat": 4,
 "nbformat_minor": 5
}
