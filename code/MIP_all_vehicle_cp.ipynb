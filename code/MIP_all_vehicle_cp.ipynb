{
 "cells": [
  {
   "cell_type": "code",
   "execution_count": 14,
   "id": "18e97609-23cd-48ad-a083-63ed4b7d1ec3",
   "metadata": {},
   "outputs": [],
   "source": [
    "from ortools.sat.python import cp_model"
   ]
  },
  {
   "cell_type": "code",
   "execution_count": 15,
   "id": "00e0bf55-209b-4136-8c98-6e9e00891887",
   "metadata": {},
   "outputs": [
    {
     "name": "stdout",
     "output_type": "stream",
     "text": [
      "5\n",
      "2\n",
      "[1, 1]\n",
      "[[0, 10, 3, 2, 13, 24, 18, 2, 23, 74, 36], [4, 0, 25, 21, 46, 50, 45, 1, 34, 48, 12], [25, 40, 0, 47, 10, 54, 13, 9, 9, 31, 10], [44, 24, 15, 0, 13, 52, 5, 1, 6, 40, 32], [53, 4, 2, 13, 0, 24, 55, 10, 1, 11, 28], [67, 1, 5, 2, 10, 0, 5, 1, 40, 2, 6], [10, 1, 2, 5, 76, 6, 0, 16, 16, 22, 8], [40, 6, 26, 18, 23, 1, 31, 0, 23, 22, 17], [22, 42, 20, 8, 41, 16, 13, 20, 0, 26, 34], [30, 1, 9, 52, 4, 40, 21, 12, 22, 0, 48], [12, 14, 38, 4, 11, 6, 34, 31, 47, 34, 0]]\n"
     ]
    }
   ],
   "source": [
    "def read_input(file):\n",
    "    with open(file, 'r') as f:\n",
    "        [n, k] = [int(x) for x in f.readline().split()]\n",
    "        capacity = [int(x) for x in f.readline().split()]\n",
    "        route = []\n",
    "        for i in range(2 * n + 1):\n",
    "            route.append([int(x) for x in f.readline().split()])\n",
    "    return n, k, capacity, route\n",
    "n, k, bus_capacity, route = read_input('../data/K2-N5.txt')\n",
    "m = 10 * n\n",
    "\n",
    "# n, k = 5, 2\n",
    "# bus_capacity = [2, 2]\n",
    "# route = [[9, 3, 8, 10, 5, 3, 1, 7, 7, 9, 2], [1, 9, 5, 3, 5, 3, 9, 7, 2, 3, 7], [7, 7, 6, 2, 6, 1, 6, 10, 10, 6, 9], [5, 3, 7, 2, 7, 7, 6, 6, 4, 9, 6], [9, 3, 10, 10, 8, 7, 6, 2, 1, 10, 2], [3, 4, 8, 8, 10, 8, 9, 4, 1, 8, 6], [2, 6, 5, 2, 2, 9, 8, 3, 6, 9, 8], [9, 8, 1, 1, 5, 5, 6, 4, 5, 6, 2], [10, 4, 9, 8, 9, 10, 8, 1, 7, 2, 6], [7, 4, 3, 3, 1, 10, 10, 4, 8, 8, 6], [3, 2, 8, 10, 4, 4, 4, 4, 6, 5, 2]]\n",
    "# m = 10 * n\n",
    "\n",
    "# n, k = 5, 3\n",
    "# bus_capacity = [2, 2, 2]\n",
    "# route = [[9, 3, 8, 10, 5, 3, 1, 7, 7, 9, 2], [1, 9, 5, 3, 5, 3, 9, 7, 2, 3, 7], [7, 7, 6, 2, 6, 1, 6, 10, 10, 6, 9], [5, 3, 7, 2, 7, 7, 6, 6, 4, 9, 6], [9, 3, 10, 10, 8, 7, 6, 2, 1, 10, 2], [3, 4, 8, 8, 10, 8, 9, 4, 1, 8, 6], [2, 6, 5, 2, 2, 9, 8, 3, 6, 9, 8], [9, 8, 1, 1, 5, 5, 6, 4, 5, 6, 2], [10, 4, 9, 8, 9, 10, 8, 1, 7, 2, 6], [7, 4, 3, 3, 1, 10, 10, 4, 8, 8, 6], [3, 2, 8, 10, 4, 4, 4, 4, 6, 5, 2]]\n",
    "# m = 10 * n\n",
    "print(n)\n",
    "print(k)\n",
    "print(bus_capacity)\n",
    "print(route)"
   ]
  },
  {
   "cell_type": "code",
   "execution_count": 16,
   "id": "8f247a0b-369c-4078-b251-abe131b81208",
   "metadata": {},
   "outputs": [],
   "source": [
    "model = cp_model.CpModel()\n",
    "INF = float('infinity')\n",
    "x = [[[model.NewIntVar(0, 1, 'x[' + str(p) + ', ' + str(i) + ', ' + str(j) + ']') for j in range(2 * n + 1)] for i in range(2 * n + 1)] for p in range(k)]\n",
    "y = [model.NewIntVar(0, max(bus_capacity), f'y[{i}]') for i in range(2*n+1)]\n",
    "z = [model.NewIntVar(0, k, f'z[{i}]') for i in range(2*n+1)]\n",
    "b = [[model.NewIntVar(0, 1, f'x[{i}][{j}]') for j in range(2*n+1)] for i in range(2*n+1)]"
   ]
  },
  {
   "cell_type": "code",
   "execution_count": 17,
   "id": "11a62700-3d24-41c2-a432-3e6f8c0e1fa7",
   "metadata": {},
   "outputs": [
    {
     "name": "stdout",
     "output_type": "stream",
     "text": [
      "[[0, 1], [0, 2], [0, 3], [0, 4], [0, 5], [1, 2], [1, 3], [1, 4], [1, 5], [1, 6], [1, 7], [1, 8], [1, 9], [1, 10], [2, 1], [2, 3], [2, 4], [2, 5], [2, 6], [2, 7], [2, 8], [2, 9], [2, 10], [3, 1], [3, 2], [3, 4], [3, 5], [3, 6], [3, 7], [3, 8], [3, 9], [3, 10], [4, 1], [4, 2], [4, 3], [4, 5], [4, 6], [4, 7], [4, 8], [4, 9], [4, 10], [5, 1], [5, 2], [5, 3], [5, 4], [5, 6], [5, 7], [5, 8], [5, 9], [5, 10], [6, 0], [6, 2], [6, 3], [6, 4], [6, 5], [6, 7], [6, 8], [6, 9], [6, 10], [7, 0], [7, 1], [7, 3], [7, 4], [7, 5], [7, 6], [7, 8], [7, 9], [7, 10], [8, 0], [8, 1], [8, 2], [8, 4], [8, 5], [8, 6], [8, 7], [8, 9], [8, 10], [9, 0], [9, 1], [9, 2], [9, 3], [9, 5], [9, 6], [9, 7], [9, 8], [9, 10], [10, 0], [10, 1], [10, 2], [10, 3], [10, 4], [10, 6], [10, 7], [10, 8], [10, 9]]\n"
     ]
    }
   ],
   "source": [
    "A = []\n",
    "for i in range(2 * n + 1):\n",
    "    for j in range(2 * n + 1):\n",
    "        if i != j and not (i<=n and j==0) and not(i==0 and j>=n+1) and not(i==j+n):\n",
    "            A.append([i, j])\n",
    "print(A)"
   ]
  },
  {
   "cell_type": "code",
   "execution_count": 18,
   "id": "bfd24ee5-90ed-4026-a0e7-d87e2b55f6ba",
   "metadata": {},
   "outputs": [],
   "source": [
    "Ai = lambda x: [i for i,j in A if j == x]\n",
    "Ao = lambda x: [j for i,j in A if i == x]"
   ]
  },
  {
   "cell_type": "code",
   "execution_count": 19,
   "id": "38835c55-6b44-4f3c-a7a3-ece079f9c214",
   "metadata": {},
   "outputs": [],
   "source": [
    "for i in range(1, 2 * n + 1):\n",
    "    a = 0\n",
    "    for p in range(k):\n",
    "        for j in Ao(i):\n",
    "            a += x[p][i][j]\n",
    "    model.Add(a == 1)\n",
    "    \n",
    "for i in range(1, 2 * n + 1):\n",
    "    a = 0\n",
    "    for p in range(k):\n",
    "        for j in Ai(i):\n",
    "            a += x[p][j][i]\n",
    "    model.Add(a == 1)"
   ]
  },
  {
   "cell_type": "code",
   "execution_count": 20,
   "id": "9b4d06ba-a240-483b-a0a7-6f7ae71c6553",
   "metadata": {},
   "outputs": [],
   "source": [
    "for p in range(k):\n",
    "    for i in range(2 * n + 1):\n",
    "        a = 0\n",
    "        c = 0\n",
    "        for j in Ao(i):\n",
    "            a += x[p][i][j]\n",
    "        for j in Ai(i):\n",
    "            c -= x[p][j][i]\n",
    "        model.Add(a + c == 0)"
   ]
  },
  {
   "cell_type": "code",
   "execution_count": 21,
   "id": "a277e437-4c60-4e1c-b012-b2f9538d106c",
   "metadata": {},
   "outputs": [],
   "source": [
    "for p in range(k):\n",
    "    a = 0\n",
    "    for j in range(1, n + 1):\n",
    "        a += x[p][0][j]\n",
    "    model.Add(a == 1)\n",
    "    c = 0\n",
    "    for j in range(1, n + 1):\n",
    "        c += x[p][j + n][0]\n",
    "    model.Add(c == 1)"
   ]
  },
  {
   "cell_type": "code",
   "execution_count": 22,
   "id": "9fc2f825-798c-4421-94de-5ea195fd9d25",
   "metadata": {},
   "outputs": [],
   "source": [
    "for p in range(k):\n",
    "    for i, j in A:\n",
    "        temp = model.NewBoolVar('temp')\n",
    "        model.Add(x[p][i][j] == 1).OnlyEnforceIf(temp)\n",
    "        model.Add(y[j] <= bus_capacity[p]).OnlyEnforceIf(temp)\n",
    "        model.Add(x[p][i][j] != 1).OnlyEnforceIf(temp.Not())\n",
    "        # model.Add(y[j] <= bus_capacity[p]).OnlyEnforceIf(temp)"
   ]
  },
  {
   "cell_type": "code",
   "execution_count": 23,
   "id": "9009e0ae-6cf4-46f2-a135-54155a57b41f",
   "metadata": {},
   "outputs": [],
   "source": [
    "for p in range(k):\n",
    "    for i,j in A:\n",
    "        if 0 < j <= n:\n",
    "            temp = model.NewBoolVar('temp')\n",
    "            model.Add(x[p][i][j] == 1).OnlyEnforceIf(temp)\n",
    "            model.Add(y[j] == y[i] + 1).OnlyEnforceIf(temp)\n",
    "            model.Add(x[p][i][j] != 1).OnlyEnforceIf(temp.Not())\n",
    "        if j > n:\n",
    "            temp = model.NewBoolVar('temp')\n",
    "            model.Add(x[p][i][j] == 1).OnlyEnforceIf(temp)\n",
    "            model.Add(y[j] == y[i] - 1).OnlyEnforceIf(temp)\n",
    "            model.Add(x[p][i][j] != 1).OnlyEnforceIf(temp.Not())\n",
    "    for i, j in A:\n",
    "        if i!=0 and j!=0:\n",
    "            temp = model.NewBoolVar('temp')\n",
    "            model.Add(x[p][i][j] == 1).OnlyEnforceIf(temp)\n",
    "            model.Add(z[j] == z[i]).OnlyEnforceIf(temp)\n",
    "            model.Add(z[j] == p).OnlyEnforceIf(temp)\n",
    "            model.Add(z[i] == p).OnlyEnforceIf(temp)\n",
    "            model.Add(x[p][i][j] != 1).OnlyEnforceIf(temp.Not())\n",
    "            # model.Add(z[j] != p).OnlyEnforceIf(temp.Not())\n",
    "            # model.Add(z[i] != p).OnlyEnforceIf(temp.Not())\n",
    "            \n",
    "for i in range(1, n + 1):\n",
    "    model.Add(z[i] == z[i + n])\n",
    "    \n",
    "for p in range(k):\n",
    "    for i in range(1,2*n+1):\n",
    "        for j in range(1,2*n+1):\n",
    "            model.Add(x[p][i][j] - b[i][j] <= 0)\n",
    "            \n",
    "for i in range(1,n+1):\n",
    "    model.Add(b[i][i+n] == 1)\n",
    "    \n",
    "for q in range(k):\n",
    "    for i in range(1,2*n+1):\n",
    "        model.Add(b[i][i] == 0)\n",
    "        \n",
    "for i in range(1,n+1):\n",
    "    model.Add(b[n + i][i] == 0)\n",
    "    \n",
    "for q in range(k):\n",
    "    for i in range(1,2*n+1):\n",
    "        for j in range(1,2*n+1):\n",
    "            if j!=i:\n",
    "                for u in range(1,2*n+1):\n",
    "                    if u!=i and u!=j:\n",
    "                        temp = model.NewBoolVar('temp')\n",
    "                        model.Add(x[q][i][j] == 1).OnlyEnforceIf(temp)\n",
    "                        model.Add(b[u][i] == b[u][j]).OnlyEnforceIf(temp)\n",
    "                        model.Add(b[i][u] == b[j][u]).OnlyEnforceIf(temp)\n",
    "                        model.Add(b[j][i] == 0).OnlyEnforceIf(temp)\n",
    "                        model.Add(x[q][i][j] != 1).OnlyEnforceIf(temp.Not())"
   ]
  },
  {
   "cell_type": "code",
   "execution_count": 24,
   "id": "4442622a-9605-4cb3-a1b7-32b2eb41c542",
   "metadata": {},
   "outputs": [
    {
     "name": "stdout",
     "output_type": "stream",
     "text": [
      "True\n"
     ]
    }
   ],
   "source": [
    "import time\n",
    "start = time.time()\n",
    "f = model.NewIntVar(0, 50*(2*n+1), 'objective func')\n",
    "model.Add(f == sum([x[p][i][j]*route[i][j] for p in range(k) for i in range(2*n+1) for j in range(2*n+1)]))\n",
    "model.Minimize(f)\n",
    "solver = cp_model.CpSolver()\n",
    "solver.Solve(model)\n",
    "print(solver.Solve(model) == cp_model.OPTIMAL)"
   ]
  },
  {
   "cell_type": "code",
   "execution_count": 25,
   "id": "670cfe8c-954c-4941-a59d-501581290840",
   "metadata": {},
   "outputs": [],
   "source": [
    "def findNext(q,i):\n",
    "    for j in Ao(i):\n",
    "        if solver.Value(x[q][i][j]) > 0:\n",
    "            return j\n",
    "def routes(q):\n",
    "    s = '0 - '\n",
    "    i = findNext(q,0)\n",
    "    while i != 0:\n",
    "        s = s + str(i) + ' - '\n",
    "        i = findNext(q,i)\n",
    "    s = s + str(i)\n",
    "    return s"
   ]
  },
  {
   "cell_type": "code",
   "execution_count": 26,
   "id": "d97b7405-661f-4c32-9660-bee5fae49af4",
   "metadata": {},
   "outputs": [
    {
     "name": "stdout",
     "output_type": "stream",
     "text": [
      "Optimal objective value = 127\n",
      "route[ 0 ] =  0 - 3 - 8 - 0 1\n",
      "( 0 - 3 ) 1 z = 0 0 distance = 2\n",
      "( 3 - 8 ) 0 z = 0 0 distance = 6\n",
      "( 8 - 0 ) 0 z = 0 0 distance = 22\n",
      "route[ 1 ] =  0 - 2 - 7 - 5 - 10 - 4 - 9 - 1 - 6 - 0 1\n",
      "( 0 - 2 ) 1 z = 0 1 distance = 3\n",
      "( 1 - 6 ) 0 z = 1 1 distance = 45\n",
      "( 2 - 7 ) 0 z = 1 1 distance = 9\n",
      "( 4 - 9 ) 0 z = 1 1 distance = 11\n",
      "( 5 - 10 ) 0 z = 1 1 distance = 6\n",
      "( 6 - 0 ) 0 z = 1 0 distance = 10\n",
      "( 7 - 5 ) 1 z = 1 1 distance = 1\n",
      "( 9 - 1 ) 1 z = 1 1 distance = 1\n",
      "( 10 - 4 ) 1 z = 1 1 distance = 11\n",
      "0.48962903022766113\n"
     ]
    }
   ],
   "source": [
    "print(f'Optimal objective value = {solver.Value(f)}')\n",
    "for p in range(k):\n",
    "    print('route[',p,'] = ',routes(p), bus_capacity[p])\n",
    "    # print('route[',p,'] = ')\n",
    "    for i,j in A:\n",
    "        if solver.Value(x[p][i][j]) > 0:\n",
    "            print('(',i,'-',j,')', solver.Value(y[j]), 'z =', solver.Value(z[i]), solver.Value(z[j]), 'distance =', route[i][j])\n",
    "            # print('(',i,'-',j,')', y[j].solution_value())\n",
    "print(time.time() - start)"
   ]
  },
  {
   "cell_type": "code",
   "execution_count": null,
   "id": "9c491a72-a122-4f86-813a-8e899cb67b48",
   "metadata": {},
   "outputs": [],
   "source": []
  }
 ],
 "metadata": {
  "kernelspec": {
   "display_name": "Python 3 (ipykernel)",
   "language": "python",
   "name": "python3"
  },
  "language_info": {
   "codemirror_mode": {
    "name": "ipython",
    "version": 3
   },
   "file_extension": ".py",
   "mimetype": "text/x-python",
   "name": "python",
   "nbconvert_exporter": "python",
   "pygments_lexer": "ipython3",
   "version": "3.9.9"
  }
 },
 "nbformat": 4,
 "nbformat_minor": 5
}
