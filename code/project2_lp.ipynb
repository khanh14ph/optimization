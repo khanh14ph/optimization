{
 "cells": [
  {
   "cell_type": "code",
   "execution_count": 1,
   "id": "79009d45-17db-4b04-9316-f5884e36d692",
   "metadata": {},
   "outputs": [],
   "source": [
    "from ortools.linear_solver import pywraplp\n",
    "import random"
   ]
  },
  {
   "cell_type": "code",
   "execution_count": 2,
   "id": "08ac45b4-c13b-4caf-afc4-3d4d44e23fca",
   "metadata": {},
   "outputs": [
    {
     "name": "stdout",
     "output_type": "stream",
     "text": [
      "5\n",
      "2\n",
      "[1, 1]\n",
      "[[0, 10, 3, 2, 13, 24, 18, 2, 23, 74, 36], [4, 0, 25, 21, 46, 50, 45, 1, 34, 48, 12], [25, 40, 0, 47, 10, 54, 13, 9, 9, 31, 10], [44, 24, 15, 0, 13, 52, 5, 1, 6, 40, 32], [53, 4, 2, 13, 0, 24, 55, 10, 1, 11, 28], [67, 1, 5, 2, 10, 0, 5, 1, 40, 2, 6], [10, 1, 2, 5, 76, 6, 0, 16, 16, 22, 8], [40, 6, 26, 18, 23, 1, 31, 0, 23, 22, 17], [22, 42, 20, 8, 41, 16, 13, 20, 0, 26, 34], [30, 1, 9, 52, 4, 40, 21, 12, 22, 0, 48], [12, 14, 38, 4, 11, 6, 34, 31, 47, 34, 0]]\n"
     ]
    }
   ],
   "source": [
    "def read_input(file):\n",
    "    with open(file, 'r') as f:\n",
    "        [n, k] = [int(x) for x in f.readline().split()]\n",
    "        capacity = [int(x) for x in f.readline().split()]\n",
    "        route = []\n",
    "        for i in range(2 * n + 1):\n",
    "            route.append([int(x) for x in f.readline().split()])\n",
    "    return n, k, capacity, route\n",
    "n, k, bus_capacity, route = read_input('../data/K2-N5.txt')\n",
    "m = 10 * n\n",
    "\n",
    "# n, k = 5, 3\n",
    "# bus_capacity = [2, 2, 2]\n",
    "# route = [[9, 3, 8, 10, 5, 3, 1, 7, 7, 9, 2], [1, 9, 5, 3, 5, 3, 9, 7, 2, 3, 7], [7, 7, 6, 2, 6, 1, 6, 10, 10, 6, 9], [5, 3, 7, 2, 7, 7, 6, 6, 4, 9, 6], [9, 3, 10, 10, 8, 7, 6, 2, 1, 10, 2], [3, 4, 8, 8, 10, 8, 9, 4, 1, 8, 6], [2, 6, 5, 2, 2, 9, 8, 3, 6, 9, 8], [9, 8, 1, 1, 5, 5, 6, 4, 5, 6, 2], [10, 4, 9, 8, 9, 10, 8, 1, 7, 2, 6], [7, 4, 3, 3, 1, 10, 10, 4, 8, 8, 6], [3, 2, 8, 10, 4, 4, 4, 4, 6, 5, 2]]\n",
    "# m = 10 * n\n",
    "\n",
    "# n, k = 5, 2\n",
    "# bus_capacity = [2, 2]\n",
    "# route = [[9, 3, 8, 10, 5, 3, 1, 7, 7, 9, 2], [1, 9, 5, 3, 5, 3, 9, 7, 2, 3, 7], [7, 7, 6, 2, 6, 1, 6, 10, 10, 6, 9], [5, 3, 7, 2, 7, 7, 6, 6, 4, 9, 6], [9, 3, 10, 10, 8, 7, 6, 2, 1, 10, 2], [3, 4, 8, 8, 10, 8, 9, 4, 1, 8, 6], [2, 6, 5, 2, 2, 9, 8, 3, 6, 9, 8], [9, 8, 1, 1, 5, 5, 6, 4, 5, 6, 2], [10, 4, 9, 8, 9, 10, 8, 1, 7, 2, 6], [7, 4, 3, 3, 1, 10, 10, 4, 8, 8, 6], [3, 2, 8, 10, 4, 4, 4, 4, 6, 5, 2]]\n",
    "# m = 10 * n\n",
    "print(n)\n",
    "print(k)\n",
    "print(bus_capacity)\n",
    "print(route)"
   ]
  },
  {
   "cell_type": "code",
   "execution_count": 3,
   "id": "09c0b3f1-3ffd-4c6e-a899-581636b1f5e7",
   "metadata": {
    "tags": []
   },
   "outputs": [],
   "source": [
    "solver = pywraplp.Solversolver = pywraplp.Solver('project2', pywraplp.Solver.CBC_MIXED_INTEGER_PROGRAMMING)\n",
    "INF = solver.infinity()\n",
    "x = [[[solver.IntVar(0, 1, 'x[' + str(p) + ', ' + str(i) + ', ' + str(j) + ']') for j in range(2 * n + 1)] for i in range(2 * n + 1)] for p in range(k)]\n",
    "y = [solver.IntVar(0, max(bus_capacity), f'y[{i}]') for i in range(2*n+1)]\n",
    "z = [solver.IntVar(0, k, f'z[{i}]') for i in range(2*n+1)]\n",
    "w = [[solver.IntVar(0, 2 * n + 2, f'w[{i}][{j}]') for j in range(2*n+1)] for i in range(k)]"
   ]
  },
  {
   "cell_type": "code",
   "execution_count": 4,
   "id": "93850dbe-19db-443d-907d-5490b28fb6ab",
   "metadata": {
    "tags": []
   },
   "outputs": [
    {
     "name": "stdout",
     "output_type": "stream",
     "text": [
      "[[0, 1], [0, 2], [0, 3], [0, 4], [0, 5], [1, 2], [1, 3], [1, 4], [1, 5], [1, 6], [1, 7], [1, 8], [1, 9], [1, 10], [2, 1], [2, 3], [2, 4], [2, 5], [2, 6], [2, 7], [2, 8], [2, 9], [2, 10], [3, 1], [3, 2], [3, 4], [3, 5], [3, 6], [3, 7], [3, 8], [3, 9], [3, 10], [4, 1], [4, 2], [4, 3], [4, 5], [4, 6], [4, 7], [4, 8], [4, 9], [4, 10], [5, 1], [5, 2], [5, 3], [5, 4], [5, 6], [5, 7], [5, 8], [5, 9], [5, 10], [6, 0], [6, 2], [6, 3], [6, 4], [6, 5], [6, 7], [6, 8], [6, 9], [6, 10], [7, 0], [7, 1], [7, 3], [7, 4], [7, 5], [7, 6], [7, 8], [7, 9], [7, 10], [8, 0], [8, 1], [8, 2], [8, 4], [8, 5], [8, 6], [8, 7], [8, 9], [8, 10], [9, 0], [9, 1], [9, 2], [9, 3], [9, 5], [9, 6], [9, 7], [9, 8], [9, 10], [10, 0], [10, 1], [10, 2], [10, 3], [10, 4], [10, 6], [10, 7], [10, 8], [10, 9]]\n"
     ]
    }
   ],
   "source": [
    "A = []\n",
    "for i in range(2 * n + 1):\n",
    "    for j in range(2 * n + 1):\n",
    "        if i != j and not (i<=n and j==0) and not(i==0 and j>=n+1) and not(i==j+n):\n",
    "            A.append([i, j])\n",
    "print(A)"
   ]
  },
  {
   "cell_type": "code",
   "execution_count": 5,
   "id": "2918daec-c005-48c0-ae0d-fce076802f51",
   "metadata": {
    "tags": []
   },
   "outputs": [],
   "source": [
    "Ai = lambda x: [i for i,j in A if j == x]\n",
    "Ao = lambda x: [j for i,j in A if i == x]"
   ]
  },
  {
   "cell_type": "code",
   "execution_count": 6,
   "id": "4eb8bf62-c8f1-4301-aa79-f12a33dbfb6d",
   "metadata": {
    "tags": []
   },
   "outputs": [],
   "source": [
    "for i in range(1, 2 * n + 1):\n",
    "    cstr = solver.Constraint(1, 1)\n",
    "    for p in range(k):\n",
    "        for j in Ao(i):\n",
    "            cstr.SetCoefficient(x[p][i][j], 1)\n",
    "            \n",
    "for i in range(1, 2 * n + 1):\n",
    "    cstr = solver.Constraint(1, 1)\n",
    "    for p in range(k):\n",
    "        for j in Ai(i):\n",
    "            cstr.SetCoefficient(x[p][j][i], 1)"
   ]
  },
  {
   "cell_type": "code",
   "execution_count": 7,
   "id": "3d940fd2-62a1-42d3-9b57-6e1d4142f3e1",
   "metadata": {
    "tags": []
   },
   "outputs": [],
   "source": [
    "for p in range(k):\n",
    "    for i in range(2 * n + 1):\n",
    "        cstr = solver.Constraint(0, 0)\n",
    "        for j in Ao(i):\n",
    "            cstr.SetCoefficient(x[p][i][j], 1)\n",
    "        for j in Ai(i):\n",
    "            cstr.SetCoefficient(x[p][j][i], -1)"
   ]
  },
  {
   "cell_type": "code",
   "execution_count": 8,
   "id": "1c0bfde1-5b52-41f2-ace6-4479e89c08f2",
   "metadata": {
    "tags": []
   },
   "outputs": [],
   "source": [
    "for p in range(k):\n",
    "    cstr = solver.Constraint(1, 1)\n",
    "    for j in range(1, n + 1):\n",
    "        cstr.SetCoefficient(x[p][0][j], 1)\n",
    "    cstr = solver.Constraint(1, 1)\n",
    "    for j in range(1, n + 1):\n",
    "        cstr.SetCoefficient(x[p][j + n][0], 1)"
   ]
  },
  {
   "cell_type": "code",
   "execution_count": 9,
   "id": "988ebc07-416f-4cce-8c06-322a2cb27b44",
   "metadata": {},
   "outputs": [],
   "source": [
    "for p in range(k):\n",
    "    for i, j in A:\n",
    "        cstr = solver.Constraint(-INF, m + bus_capacity[p])\n",
    "        cstr.SetCoefficient(x[p][i][j], m)\n",
    "        cstr.SetCoefficient(y[j], 1)"
   ]
  },
  {
   "cell_type": "code",
   "execution_count": 10,
   "id": "aa7677ae-a648-4d23-81b4-2173737c7841",
   "metadata": {},
   "outputs": [],
   "source": [
    "for p in range(k):\n",
    "    for i,j in A:\n",
    "        if 0 < j <= n:\n",
    "            cstr = solver.Constraint(-m + 1, INF)\n",
    "            cstr.SetCoefficient(x[p][i][j], -m)\n",
    "            cstr.SetCoefficient(y[j], 1)\n",
    "            cstr.SetCoefficient(y[i], -1)\n",
    "\n",
    "            cstr = solver.Constraint(-m - 1, INF)\n",
    "            cstr.SetCoefficient(x[p][i][j], -m)\n",
    "            cstr.SetCoefficient(y[j], -1)\n",
    "            cstr.SetCoefficient(y[i], 1)\n",
    "            \n",
    "            cstr = solver.Constraint(-m + 1, INF)\n",
    "            cstr.SetCoefficient(x[p][i][j], -m)\n",
    "            cstr.SetCoefficient(w[p][j], 1)\n",
    "            cstr.SetCoefficient(w[p][i], -1)\n",
    "\n",
    "            cstr = solver.Constraint(-m - 1, INF)\n",
    "            cstr.SetCoefficient(x[p][i][j], -m)\n",
    "            cstr.SetCoefficient(w[p][j], -1)\n",
    "            cstr.SetCoefficient(w[p][i], 1)\n",
    "            \n",
    "        if j > n:\n",
    "            cstr = solver.Constraint(-m - 1, INF)\n",
    "            cstr.SetCoefficient(x[p][i][j], -m)\n",
    "            cstr.SetCoefficient(y[j], 1)\n",
    "            cstr.SetCoefficient(y[i], -1)\n",
    "\n",
    "            cstr = solver.Constraint(-m + 1, INF)\n",
    "            cstr.SetCoefficient(x[p][i][j], -m)\n",
    "            cstr.SetCoefficient(y[j], -1)\n",
    "            cstr.SetCoefficient(y[i], 1)\n",
    "            \n",
    "            cstr = solver.Constraint(-m + 1, INF)\n",
    "            cstr.SetCoefficient(x[p][i][j], -m)\n",
    "            cstr.SetCoefficient(w[p][j], 1)\n",
    "            cstr.SetCoefficient(w[p][i], -1)\n",
    "\n",
    "            cstr = solver.Constraint(-m - 1, INF)\n",
    "            cstr.SetCoefficient(x[p][i][j], -m)\n",
    "            cstr.SetCoefficient(w[p][j], -1)\n",
    "            cstr.SetCoefficient(w[p][i], 1)\n",
    "            \n",
    "    for i, j in A:\n",
    "        if i!=0 and j!=0:\n",
    "            cstr = solver.Constraint(-n, INF)\n",
    "            cstr.SetCoefficient(x[p][i][j], -n)\n",
    "            cstr.SetCoefficient(z[j], 1)\n",
    "            cstr.SetCoefficient(z[i], -1)\n",
    "\n",
    "            cstr = solver.Constraint(-n, INF)\n",
    "            cstr.SetCoefficient(x[p][i][j], -n)\n",
    "            cstr.SetCoefficient(z[j], -1)\n",
    "            cstr.SetCoefficient(z[i], 1)\n",
    "\n",
    "            cstr = solver.Constraint(-n+p, INF)\n",
    "            cstr.SetCoefficient(x[p][i][j], -n)\n",
    "            cstr.SetCoefficient(z[i], 1)\n",
    "\n",
    "            cstr = solver.Constraint(-n-p, INF)\n",
    "            cstr.SetCoefficient(x[p][i][j], -n)\n",
    "            cstr.SetCoefficient(z[i], -1)\n",
    "\n",
    "\n",
    "    \n",
    "\n",
    "for i in range(1, n + 1):\n",
    "    cstr = solver.Constraint(0, 0)\n",
    "    cstr.SetCoefficient(z[i], 1)\n",
    "    cstr.SetCoefficient(z[i+n], -1)\n",
    "\n",
    "for p in range(k):\n",
    "    for i in range(1, n + 1):\n",
    "        cstr = solver.Constraint(-INF, 0)\n",
    "        cstr.SetCoefficient(w[p][i], 1)\n",
    "        cstr.SetCoefficient(w[p][i + n], -1)\n",
    "    \n",
    "# cstr = solver.Constraint(0, 0)\n",
    "# cstr.SetCoefficient(y[0], 1)\n",
    "\n",
    "# for p in range(k):\n",
    "#     cstr = solver.Constraint(0, 0)\n",
    "#     cstr.SetCoefficient(w[p][0], 1)"
   ]
  },
  {
   "cell_type": "code",
   "execution_count": 11,
   "id": "f5fad69e-cb88-4f16-ba2b-36add4aecefc",
   "metadata": {},
   "outputs": [
    {
     "name": "stdout",
     "output_type": "stream",
     "text": [
      "Optimal objective value = 127.0\n"
     ]
    }
   ],
   "source": [
    "import time\n",
    "start = time.time()\n",
    "obj = solver.Objective()\n",
    "for q in range(k):\n",
    "    for i, j in A:\n",
    "        obj.SetCoefficient(x[q][i][j], route[i][j])\n",
    "obj.SetMinimization()\n",
    "\n",
    "rs = solver.Solve()\n",
    "\n",
    "print(f'Optimal objective value = {obj.Value()}')\n",
    "\n",
    "def findNext(q,i):\n",
    "    for j in Ao(i):\n",
    "        if x[q][i][j].solution_value() > 0:\n",
    "            return j\n",
    "    return False\n",
    "\n",
    "def routes(q):\n",
    "    s = '0 - '\n",
    "    i = findNext(q,0)\n",
    "    if not i: return 'Not used'\n",
    "    while i != 0:\n",
    "        s = s + str(i) + ' - '\n",
    "        i = findNext(q,i)\n",
    "    s = s + str(i)\n",
    "    return s"
   ]
  },
  {
   "cell_type": "code",
   "execution_count": 12,
   "id": "e26232e1-a9a4-4522-ace8-6c8967c386b2",
   "metadata": {},
   "outputs": [
    {
     "name": "stdout",
     "output_type": "stream",
     "text": [
      "Optimal objective value = 127.0\n",
      "route[ 0 ] =  0 - 3 - 8 - 0 bus capacity = 1\n",
      "( 0 - 3 ) 1.0 w =  0.0 1.0 z = 0.0 0.0 distance = 2\n",
      "( 3 - 8 ) 0.0 w =  1.0 2.0 z = 0.0 0.0 distance = 6\n",
      "( 8 - 0 ) 0.0 w =  2.0 0.0 z = 0.0 0.0 distance = 22\n",
      "route[ 1 ] =  0 - 2 - 7 - 5 - 10 - 4 - 9 - 1 - 6 - 0 bus capacity = 1\n",
      "( 0 - 2 ) 1.0 w =  0.0 1.0 z = 0.0 1.0 distance = 3\n",
      "( 1 - 6 ) 0.0 w =  7.0 8.0 z = 1.0 1.0 distance = 45\n",
      "( 2 - 7 ) 0.0 w =  1.0 2.0 z = 1.0 1.0 distance = 9\n",
      "( 4 - 9 ) 0.0 w =  5.0 6.0 z = 1.0 1.0 distance = 11\n",
      "( 5 - 10 ) 0.0 w =  3.0 4.0 z = 1.0 1.0 distance = 6\n",
      "( 6 - 0 ) 0.0 w =  8.0 0.0 z = 1.0 0.0 distance = 10\n",
      "( 7 - 5 ) 1.0 w =  2.0 3.0 z = 1.0 1.0 distance = 1\n",
      "( 9 - 1 ) 1.0 w =  6.0 7.0 z = 1.0 1.0 distance = 1\n",
      "( 10 - 4 ) 1.0 w =  4.0 5.0 z = 1.0 1.0 distance = 11\n",
      "5.302863121032715\n"
     ]
    }
   ],
   "source": [
    "print(f'Optimal objective value = {obj.Value()}')\n",
    "for p in range(k):\n",
    "    print('route[',p,'] = ',routes(p), 'bus capacity =', bus_capacity[p])\n",
    "    # print('route[',p,'] = ')\n",
    "    for i,j in A:\n",
    "        if x[p][i][j].solution_value() > 0:\n",
    "            print('(',i,'-',j,')', y[j].solution_value(), 'w = ', w[p][i].solution_value(), w[p][j].solution_value(), 'z =', z[i].solution_value(), z[j].solution_value(), 'distance =', route[i][j])\n",
    "            # print('(',i,'-',j,')', y[j].solution_value())\n",
    "print(time.time() - start)"
   ]
  }
 ],
 "metadata": {
  "kernelspec": {
   "display_name": "Python 3 (ipykernel)",
   "language": "python",
   "name": "python3"
  },
  "language_info": {
   "codemirror_mode": {
    "name": "ipython",
    "version": 3
   },
   "file_extension": ".py",
   "mimetype": "text/x-python",
   "name": "python",
   "nbconvert_exporter": "python",
   "pygments_lexer": "ipython3",
   "version": "3.9.9"
  }
 },
 "nbformat": 4,
 "nbformat_minor": 5
}
