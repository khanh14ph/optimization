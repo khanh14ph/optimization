{
 "cells": [
  {
   "cell_type": "code",
   "execution_count": 1,
   "id": "90defcfd-e9df-4e5f-9bfc-ec58b7d6c693",
   "metadata": {},
   "outputs": [],
   "source": [
    "from ortools.sat.python import cp_model"
   ]
  },
  {
   "cell_type": "code",
   "execution_count": 2,
   "id": "364502a6-01e3-4341-b6f9-ca94ccca6963",
   "metadata": {},
   "outputs": [
    {
     "name": "stdout",
     "output_type": "stream",
     "text": [
      "5\n",
      "3\n",
      "[2, 2, 2]\n",
      "[[9, 3, 8, 10, 5, 3, 1, 7, 7, 9, 2], [1, 9, 5, 3, 5, 3, 9, 7, 2, 3, 7], [7, 7, 6, 2, 6, 1, 6, 10, 10, 6, 9], [5, 3, 7, 2, 7, 7, 6, 6, 4, 9, 6], [9, 3, 10, 10, 8, 7, 6, 2, 1, 10, 2], [3, 4, 8, 8, 10, 8, 9, 4, 1, 8, 6], [2, 6, 5, 2, 2, 9, 8, 3, 6, 9, 8], [9, 8, 1, 1, 5, 5, 6, 4, 5, 6, 2], [10, 4, 9, 8, 9, 10, 8, 1, 7, 2, 6], [7, 4, 3, 3, 1, 10, 10, 4, 8, 8, 6], [3, 2, 8, 10, 4, 4, 4, 4, 6, 5, 2]]\n"
     ]
    }
   ],
   "source": [
    "# def read_input(file):\n",
    "#     with open(file, 'r') as f:\n",
    "#         [n, k] = [int(x) for x in f.readline().split()]\n",
    "#         capacity = [int(x) for x in f.readline().split()]\n",
    "#         route = []\n",
    "#         for i in range(2 * n + 1):\n",
    "#             route.append([int(x) for x in f.readline().split()])\n",
    "#     return n, k, capacity, route\n",
    "# n, k, bus_capacity, route = read_input('data.txt')\n",
    "# m = 10 * n\n",
    "\n",
    "# n, k = 5, 2\n",
    "# bus_capacity = [2, 2]\n",
    "# route = [[9, 3, 8, 10, 5, 3, 1, 7, 7, 9, 2], [1, 9, 5, 3, 5, 3, 9, 7, 2, 3, 7], [7, 7, 6, 2, 6, 1, 6, 10, 10, 6, 9], [5, 3, 7, 2, 7, 7, 6, 6, 4, 9, 6], [9, 3, 10, 10, 8, 7, 6, 2, 1, 10, 2], [3, 4, 8, 8, 10, 8, 9, 4, 1, 8, 6], [2, 6, 5, 2, 2, 9, 8, 3, 6, 9, 8], [9, 8, 1, 1, 5, 5, 6, 4, 5, 6, 2], [10, 4, 9, 8, 9, 10, 8, 1, 7, 2, 6], [7, 4, 3, 3, 1, 10, 10, 4, 8, 8, 6], [3, 2, 8, 10, 4, 4, 4, 4, 6, 5, 2]]\n",
    "# m = 10 * n\n",
    "\n",
    "n, k = 5, 3\n",
    "bus_capacity = [2, 2, 2]\n",
    "route = [[9, 3, 8, 10, 5, 3, 1, 7, 7, 9, 2], [1, 9, 5, 3, 5, 3, 9, 7, 2, 3, 7], [7, 7, 6, 2, 6, 1, 6, 10, 10, 6, 9], [5, 3, 7, 2, 7, 7, 6, 6, 4, 9, 6], [9, 3, 10, 10, 8, 7, 6, 2, 1, 10, 2], [3, 4, 8, 8, 10, 8, 9, 4, 1, 8, 6], [2, 6, 5, 2, 2, 9, 8, 3, 6, 9, 8], [9, 8, 1, 1, 5, 5, 6, 4, 5, 6, 2], [10, 4, 9, 8, 9, 10, 8, 1, 7, 2, 6], [7, 4, 3, 3, 1, 10, 10, 4, 8, 8, 6], [3, 2, 8, 10, 4, 4, 4, 4, 6, 5, 2]]\n",
    "m = 10 * n\n",
    "print(n)\n",
    "print(k)\n",
    "print(bus_capacity)\n",
    "print(route)"
   ]
  },
  {
   "cell_type": "code",
   "execution_count": 3,
   "id": "c413d204-80a1-4c98-95be-e1008ea8aba6",
   "metadata": {},
   "outputs": [],
   "source": [
    "model = cp_model.CpModel()\n",
    "INF = float('infinity')\n",
    "x = [[[model.NewIntVar(0, 1, 'x[' + str(p) + ', ' + str(i) + ', ' + str(j) + ']') for j in range(2 * n + 1)] for i in range(2 * n + 1)] for p in range(k)]\n",
    "y = [model.NewIntVar(0, max(bus_capacity), f'y[{i}]') for i in range(2*n+1)]\n",
    "z = [model.NewIntVar(0, k, f'z[{i}]') for i in range(2*n+1)]\n",
    "w = [[model.NewIntVar(0, 2 * n + len(bus_capacity), f'w[{i}][{j}]') for j in range(2*n+1)] for i in range(k)]"
   ]
  },
  {
   "cell_type": "code",
   "execution_count": 4,
   "id": "d8fc01ef-9f76-49c6-b612-cc76851a5981",
   "metadata": {},
   "outputs": [],
   "source": [
    "class VarArraySolutionPrinter(cp_model.CpSolverSolutionCallback):\n",
    "    #print intermediate solution\n",
    "    def __init__(self,variables, f):\n",
    "        cp_model.CpSolverSolutionCallback.__init__(self)\n",
    "        self.__variables= variables\n",
    "        self.__solution_count= 0\n",
    "        self.f = f\n",
    "    def on_solution_callback(self):\n",
    "        self.__solution_count+= 1\n",
    "        print('-'*20, self.__solution_count, self.Value(self.f))\n",
    "        for xk in self.__variables:\n",
    "            for xki in xk:\n",
    "                for xkij in xki:\n",
    "                    print('%i'% (self.Value(xkij)), end = ' ')\n",
    "                print()\n",
    "            print('\\t' + '-'*10)\n",
    "    def solution_count(self):\n",
    "        return self.__solution_count"
   ]
  },
  {
   "cell_type": "code",
   "execution_count": 5,
   "id": "4819786e-3ae5-43a6-bb23-911dbc0dc318",
   "metadata": {},
   "outputs": [
    {
     "name": "stdout",
     "output_type": "stream",
     "text": [
      "[[0, 1], [0, 2], [0, 3], [0, 4], [0, 5], [1, 2], [1, 3], [1, 4], [1, 5], [1, 6], [1, 7], [1, 8], [1, 9], [1, 10], [2, 1], [2, 3], [2, 4], [2, 5], [2, 6], [2, 7], [2, 8], [2, 9], [2, 10], [3, 1], [3, 2], [3, 4], [3, 5], [3, 6], [3, 7], [3, 8], [3, 9], [3, 10], [4, 1], [4, 2], [4, 3], [4, 5], [4, 6], [4, 7], [4, 8], [4, 9], [4, 10], [5, 1], [5, 2], [5, 3], [5, 4], [5, 6], [5, 7], [5, 8], [5, 9], [5, 10], [6, 0], [6, 2], [6, 3], [6, 4], [6, 5], [6, 7], [6, 8], [6, 9], [6, 10], [7, 0], [7, 1], [7, 3], [7, 4], [7, 5], [7, 6], [7, 8], [7, 9], [7, 10], [8, 0], [8, 1], [8, 2], [8, 4], [8, 5], [8, 6], [8, 7], [8, 9], [8, 10], [9, 0], [9, 1], [9, 2], [9, 3], [9, 5], [9, 6], [9, 7], [9, 8], [9, 10], [10, 0], [10, 1], [10, 2], [10, 3], [10, 4], [10, 6], [10, 7], [10, 8], [10, 9]]\n"
     ]
    }
   ],
   "source": [
    "A = []\n",
    "for i in range(2 * n + 1):\n",
    "    for j in range(2 * n + 1):\n",
    "        if i != j and not (i<=n and j==0) and not(i==0 and j>=n+1) and not(i==j+n):\n",
    "            A.append([i, j])\n",
    "print(A)"
   ]
  },
  {
   "cell_type": "code",
   "execution_count": 6,
   "id": "ab62648f-eee8-4688-9753-36b29a705c5e",
   "metadata": {},
   "outputs": [],
   "source": [
    "Ai = lambda x: [i for i,j in A if j == x]\n",
    "Ao = lambda x: [j for i,j in A if i == x]"
   ]
  },
  {
   "cell_type": "code",
   "execution_count": 7,
   "id": "4c589c99-28f2-42fa-ba4d-3ff8c5c33ca5",
   "metadata": {},
   "outputs": [],
   "source": [
    "for i in range(1, 2 * n + 1):\n",
    "    a = 0\n",
    "    for p in range(k):\n",
    "        for j in Ao(i):\n",
    "            a += x[p][i][j]\n",
    "    model.Add(a == 1)\n",
    "    \n",
    "for i in range(1, 2 * n + 1):\n",
    "    a = 0\n",
    "    for p in range(k):\n",
    "        for j in Ai(i):\n",
    "            a += x[p][j][i]\n",
    "    model.Add(a == 1)"
   ]
  },
  {
   "cell_type": "code",
   "execution_count": 8,
   "id": "f42b8868-2091-4f4e-998e-b5fad8f84fae",
   "metadata": {},
   "outputs": [],
   "source": [
    "for p in range(k):\n",
    "    for i in range(2 * n + 1):\n",
    "        a = 0\n",
    "        b = 0\n",
    "        for j in Ao(i):\n",
    "            a += x[p][i][j]\n",
    "        for j in Ai(i):\n",
    "            b -= x[p][j][i]\n",
    "        model.Add(a + b == 0)"
   ]
  },
  {
   "cell_type": "code",
   "execution_count": 9,
   "id": "214795ac-e333-4eda-9945-6e3e3aa0947a",
   "metadata": {},
   "outputs": [],
   "source": [
    "for p in range(k):\n",
    "    a = 0\n",
    "    for j in range(1, n + 1):\n",
    "        a += x[p][0][j]\n",
    "    model.Add(a == 1)\n",
    "    b = 0\n",
    "    for j in range(1, n + 1):\n",
    "        b += x[p][j + n][0]\n",
    "    model.Add(b == 1)"
   ]
  },
  {
   "cell_type": "code",
   "execution_count": 10,
   "id": "0f363293-1b43-4206-94a3-0d5f8ae24357",
   "metadata": {},
   "outputs": [],
   "source": [
    "for p in range(k):\n",
    "    for i, j in A:\n",
    "        temp = model.NewBoolVar('temp')\n",
    "        model.Add(x[p][i][j] == 1).OnlyEnforceIf(temp)\n",
    "        model.Add(y[j] <= bus_capacity[p]).OnlyEnforceIf(temp)\n",
    "        model.Add(x[p][i][j] != 1).OnlyEnforceIf(temp.Not())\n",
    "        # model.Add(y[j] <= bus_capacity[p]).OnlyEnforceIf(temp)"
   ]
  },
  {
   "cell_type": "code",
   "execution_count": 11,
   "id": "8f5070ed-8648-4279-9272-355dfa20495f",
   "metadata": {},
   "outputs": [],
   "source": [
    "for p in range(k):\n",
    "    for i,j in A:\n",
    "        if 0 < j <= n:\n",
    "            temp = model.NewBoolVar('temp')\n",
    "            model.Add(x[p][i][j] == 1).OnlyEnforceIf(temp)\n",
    "            model.Add(y[j] == y[i] + 1).OnlyEnforceIf(temp)\n",
    "            model.Add(w[p][j] == w[p][i] + 1).OnlyEnforceIf(temp)\n",
    "            model.Add(x[p][i][j] != 1).OnlyEnforceIf(temp.Not())\n",
    "        if j > n:\n",
    "            temp = model.NewBoolVar('temp')\n",
    "            model.Add(x[p][i][j] == 1).OnlyEnforceIf(temp)\n",
    "            model.Add(y[j] == y[i] - 1).OnlyEnforceIf(temp)\n",
    "            model.Add(w[p][j] == w[p][i] + 1).OnlyEnforceIf(temp)\n",
    "            model.Add(x[p][i][j] != 1).OnlyEnforceIf(temp.Not())\n",
    "    for i, j in A:\n",
    "        if i!=0 and j!=0:\n",
    "            temp = model.NewBoolVar('temp')\n",
    "            model.Add(x[p][i][j] == 1).OnlyEnforceIf(temp)\n",
    "            model.Add(z[j] == z[i]).OnlyEnforceIf(temp)\n",
    "            model.Add(z[j] == p).OnlyEnforceIf(temp)\n",
    "            model.Add(z[i] == p).OnlyEnforceIf(temp)\n",
    "            model.Add(x[p][i][j] != 1).OnlyEnforceIf(temp.Not())\n",
    "            # model.Add(z[j] != p).OnlyEnforceIf(temp.Not())\n",
    "            # model.Add(z[i] != p).OnlyEnforceIf(temp.Not())\n",
    "            \n",
    "for i in range(1, n + 1):\n",
    "    model.Add(z[i] == z[i + n])\n",
    "    \n",
    "for p in range(k):\n",
    "    for i in range(1, n + 1):\n",
    "        model.Add(w[p][i] <= w[p][i + n])\n",
    "        "
   ]
  },
  {
   "cell_type": "code",
   "execution_count": 12,
   "id": "ddc4c073-b020-4fa6-a328-e605d7c0713b",
   "metadata": {},
   "outputs": [
    {
     "name": "stdout",
     "output_type": "stream",
     "text": [
      "True\n"
     ]
    }
   ],
   "source": [
    "import time\n",
    "start = time.time()\n",
    "f = model.NewIntVar(0, 10*(2*n+1), 'objective func')\n",
    "model.Add(f == sum([x[p][i][j]*route[i][j] for p in range(k) for i in range(2*n+1) for j in range(2*n+1)]))\n",
    "model.Minimize(f)\n",
    "solver = cp_model.CpSolver()\n",
    "solver.Solve(model)\n",
    "print(solver.Solve(model) == cp_model.OPTIMAL)"
   ]
  },
  {
   "cell_type": "code",
   "execution_count": 13,
   "id": "8d4c0994-54d6-4764-89c5-accd6ce58fb6",
   "metadata": {},
   "outputs": [],
   "source": [
    "def findNext(q,i):\n",
    "    for j in Ao(i):\n",
    "        if solver.Value(x[q][i][j]) > 0:\n",
    "            return j\n",
    "def routes(q):\n",
    "    s = '0 - '\n",
    "    i = findNext(q,0)\n",
    "    while i != 0:\n",
    "        s = s + str(i) + ' - '\n",
    "        i = findNext(q,i)\n",
    "    s = s + str(i)\n",
    "    return s"
   ]
  },
  {
   "cell_type": "code",
   "execution_count": 14,
   "id": "3aa1a286-ad72-403f-a3b8-57abf85d5351",
   "metadata": {},
   "outputs": [
    {
     "name": "stdout",
     "output_type": "stream",
     "text": [
      "Optimal objective value = 56\n",
      "route[ 0 ] =  0 - 2 - 4 - 7 - 3 - 8 - 9 - 0 2\n",
      "( 0 - 2 ) 1 w =  0 1 z = 0 0 distance = 8\n",
      "( 2 - 4 ) 2 w =  1 2 z = 0 0 distance = 6\n",
      "( 3 - 8 ) 1 w =  4 5 z = 0 0 distance = 4\n",
      "( 4 - 7 ) 1 w =  2 3 z = 0 0 distance = 2\n",
      "( 7 - 3 ) 2 w =  3 4 z = 0 0 distance = 1\n",
      "( 8 - 9 ) 0 w =  5 6 z = 0 0 distance = 2\n",
      "( 9 - 0 ) 0 w =  6 0 z = 0 0 distance = 7\n",
      "route[ 1 ] =  0 - 5 - 10 - 0 2\n",
      "( 0 - 5 ) 1 w =  0 1 z = 0 1 distance = 3\n",
      "( 5 - 10 ) 0 w =  1 2 z = 1 1 distance = 6\n",
      "( 10 - 0 ) 0 w =  2 0 z = 1 0 distance = 3\n",
      "route[ 2 ] =  0 - 1 - 6 - 0 2\n",
      "( 0 - 1 ) 1 w =  0 1 z = 0 2 distance = 3\n",
      "( 1 - 6 ) 0 w =  1 2 z = 2 2 distance = 9\n",
      "( 6 - 0 ) 0 w =  2 0 z = 2 0 distance = 2\n",
      "0.8785109519958496\n"
     ]
    }
   ],
   "source": [
    "print(f'Optimal objective value = {solver.Value(f)}')\n",
    "for p in range(k):\n",
    "    print('route[',p,'] = ',routes(p), bus_capacity[p])\n",
    "    # print('route[',p,'] = ')\n",
    "    for i,j in A:\n",
    "        if solver.Value(x[p][i][j]) > 0:\n",
    "            print('(',i,'-',j,')', solver.Value(y[j]), 'w = ', solver.Value(w[p][i]), solver.Value(w[p][j]), 'z =', solver.Value(z[i]), solver.Value(z[j]), 'distance =', route[i][j])\n",
    "            # print('(',i,'-',j,')', y[j].solution_value())\n",
    "print(time.time() - start)"
   ]
  }
 ],
 "metadata": {
  "kernelspec": {
   "display_name": "Python 3 (ipykernel)",
   "language": "python",
   "name": "python3"
  },
  "language_info": {
   "codemirror_mode": {
    "name": "ipython",
    "version": 3
   },
   "file_extension": ".py",
   "mimetype": "text/x-python",
   "name": "python",
   "nbconvert_exporter": "python",
   "pygments_lexer": "ipython3",
   "version": "3.9.9"
  }
 },
 "nbformat": 4,
 "nbformat_minor": 5
}
