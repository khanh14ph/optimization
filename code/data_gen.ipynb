{
 "cells": [
  {
   "cell_type": "code",
   "execution_count": 1,
   "id": "3404ca84",
   "metadata": {},
   "outputs": [
    {
     "name": "stdout",
     "output_type": "stream",
     "text": [
      "[[13, 12, 8, 3, 15, 7, 13, 11, 6, 7, 12, 14, 11], [7, 4, 12, 11, 5, 3, 14, 8, 15, 10, 11, 6, 13], [13, 4, 15, 7, 13, 15, 6, 4, 9, 13, 14, 15, 8], [10, 9, 15, 9, 3, 13, 4, 4, 7, 8, 13, 6, 14], [10, 9, 13, 12, 3, 6, 4, 10, 8, 6, 15, 5, 5], [4, 8, 4, 8, 13, 10, 12, 7, 7, 9, 12, 4, 10], [14, 11, 12, 9, 13, 12, 12, 10, 6, 4, 9, 14, 7], [7, 12, 4, 4, 7, 5, 7, 6, 13, 9, 10, 9, 3], [8, 3, 15, 13, 9, 5, 10, 9, 7, 13, 15, 10, 4], [4, 7, 11, 9, 11, 10, 7, 4, 15, 6, 11, 12, 6], [15, 7, 5, 13, 7, 5, 6, 10, 8, 9, 14, 4, 13], [7, 12, 9, 12, 14, 12, 7, 9, 9, 8, 5, 10, 9], [10, 15, 5, 15, 8, 5, 10, 4, 10, 4, 6, 14, 5]]\n"
     ]
    }
   ],
   "source": [
    "import random as rd\n",
    "\n",
    "def gen(filename,K,N):\n",
    "#K : number of trucks\n",
    "#N : number of customers\n",
    "    c=[rd.randint(2,4) for i in range(K)]\n",
    "    M = 2*N+1\n",
    "    d = [[rd.randint(3,15) for i in range(M)] for j in range(M)]\n",
    "    print(d)\n",
    "    \n",
    "    f = open(filename,'w')\n",
    "    f.write(str(N) + ' ' + str(K) + '\\n')\n",
    "    line = ''\n",
    "    for ci in c:\n",
    "        line = line + str(ci) + ' '\n",
    "    f.write(line + '\\n')\n",
    "    for i in range(M):\n",
    "        line = ''\n",
    "        for j in range(M):\n",
    "            line = line + str(d[i][j]) + ' '\n",
    "        f.write(line + '\\n')\n",
    "\n",
    "gen('K3-N6.txt',3,6)"
   ]
  },
  {
   "cell_type": "code",
   "execution_count": null,
   "id": "75b86eca",
   "metadata": {},
   "outputs": [],
   "source": []
  },
  {
   "cell_type": "code",
   "execution_count": null,
   "id": "4171cf32",
   "metadata": {},
   "outputs": [],
   "source": []
  }
 ],
 "metadata": {
  "kernelspec": {
   "display_name": "Python 3",
   "language": "python",
   "name": "python3"
  },
  "language_info": {
   "codemirror_mode": {
    "name": "ipython",
    "version": 3
   },
   "file_extension": ".py",
   "mimetype": "text/x-python",
   "name": "python",
   "nbconvert_exporter": "python",
   "pygments_lexer": "ipython3",
   "version": "3.8.8"
  }
 },
 "nbformat": 4,
 "nbformat_minor": 5
}
